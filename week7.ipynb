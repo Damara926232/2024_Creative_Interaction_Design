{
 "cells": [
  {
   "cell_type": "code",
   "execution_count": 3,
   "id": "9cac4733-7c90-481e-9916-68ef0a648ead",
   "metadata": {},
   "outputs": [
    {
     "name": "stdout",
     "output_type": "stream",
     "text": [
      "(1, 2, 'cuc', 1.32)\n",
      "[1, 1.35, 'cuc']\n"
     ]
    }
   ],
   "source": [
    "tuple=(1,2,'cuc',1.32)\n",
    "print(tuple)\n",
    "list=[1,1.35,'cuc']\n",
    "print(list)"
   ]
  },
  {
   "cell_type": "code",
   "execution_count": 2,
   "id": "42c3e767-042b-43e3-a6d9-8dbd71913f07",
   "metadata": {},
   "outputs": [
    {
     "name": "stdout",
     "output_type": "stream",
     "text": [
      "[1, 2, 3, 5, 6]\n"
     ]
    }
   ],
   "source": [
    "myList=[1,5,2,3,6]\n",
    "print(sorted(myList))"
   ]
  },
  {
   "cell_type": "code",
   "execution_count": 6,
   "id": "f1652617-9758-4371-9915-d1776fef06e5",
   "metadata": {},
   "outputs": [
    {
     "name": "stdout",
     "output_type": "stream",
     "text": [
      "69\n",
      "[100, 50, 69, 89, 90]\n"
     ]
    }
   ],
   "source": [
    "list=[100,50,69,89]\n",
    "print(list[2])\n",
    "list.append(90)\n",
    "print(list)"
   ]
  },
  {
   "cell_type": "code",
   "execution_count": 9,
   "id": "19398438-48d1-475a-9277-b82cccc0572c",
   "metadata": {},
   "outputs": [
    {
     "name": "stdout",
     "output_type": "stream",
     "text": [
      "[100, 50, 69, 89, 90, [1, 6, 76, 'cuc', True], [1, 6, 76, 'cuc', True]]\n"
     ]
    }
   ],
   "source": [
    "list.append([1,6,76,'cuc',True])\n",
    "print(list)"
   ]
  },
  {
   "cell_type": "code",
   "execution_count": 10,
   "id": "cfd1ba16-b16b-4dc3-a2ba-78077523bf1a",
   "metadata": {},
   "outputs": [
    {
     "name": "stdout",
     "output_type": "stream",
     "text": [
      "[100, 50, 69, 89, 90, [1, 6, 76, 'cuc', True], [1, 6, 76, 'cuc', True], [1, 9, 3, [4, 85, 23]]]\n"
     ]
    }
   ],
   "source": [
    "list2=[1,9,3]\n",
    "list2.append([4,85,23])\n",
    "list.append(list2)\n",
    "print(list)"
   ]
  },
  {
   "cell_type": "code",
   "execution_count": 11,
   "id": "76966e99-d6c9-4518-a430-21068efa1634",
   "metadata": {},
   "outputs": [
    {
     "name": "stdout",
     "output_type": "stream",
     "text": [
      "[100, 69, 89, 90, [1, 6, 76, 'cuc', True], [1, 6, 76, 'cuc', True], [1, 9, 3, [4, 85, 23]]]\n"
     ]
    }
   ],
   "source": [
    "list.remove(50)\n",
    "print(list)"
   ]
  },
  {
   "cell_type": "code",
   "execution_count": 20,
   "id": "397ef641-a32d-4694-894b-65226a58e5b9",
   "metadata": {},
   "outputs": [
    {
     "name": "stdout",
     "output_type": "stream",
     "text": [
      "90\n",
      "[{'Marry': 90, 'David': 92, 'Sherry': 96}, {'Marry': 98, 'David': 90, 'Sherry': 94}]\n"
     ]
    }
   ],
   "source": [
    "test={'Marry':90,'David':92,'Sherry':96}\n",
    "assignment={'Marry':98,'David':90,'Sherry':94}\n",
    "list=[]\n",
    "list.append(test)\n",
    "list.append(assignment)\n",
    "print(test['Marry'])\n",
    "print(list)"
   ]
  },
  {
   "cell_type": "code",
   "execution_count": 22,
   "id": "ad43f3b3-8602-4b23-b671-9dc62dda68a2",
   "metadata": {},
   "outputs": [
    {
     "name": "stdout",
     "output_type": "stream",
     "text": [
      "{1, 'cuc', (1, 5, 'haha')}\n",
      "<class 'set'>\n"
     ]
    }
   ],
   "source": [
    "set={1,'cuc',(1,5,'haha')}\n",
    "print(set)\n",
    "print(type(set))"
   ]
  },
  {
   "cell_type": "code",
   "execution_count": 28,
   "id": "1bb88ae9-e36c-4f48-979a-94eeb27b01da",
   "metadata": {},
   "outputs": [
    {
     "name": "stdout",
     "output_type": "stream",
     "text": [
      "0 red\n",
      "1 green\n",
      "2 Blue is printed.\n",
      "3 orange\n",
      "4 white\n",
      "Done.\n"
     ]
    }
   ],
   "source": [
    "list=['red', 'green', 'blue', 'orange', 'white']\n",
    "index=0\n",
    "for i in list:\n",
    "    if i == 'blue':\n",
    "        print(index,'Blue is printed.')\n",
    "        index+=1\n",
    "    else:\n",
    "        print(index,list[index])\n",
    "        index+=1\n",
    "print('Done.')"
   ]
  },
  {
   "cell_type": "code",
   "execution_count": 36,
   "id": "5de6a15d-d019-4a14-a4e3-b833325e42d0",
   "metadata": {},
   "outputs": [
    {
     "name": "stdout",
     "output_type": "stream",
     "text": [
      "   ID   Name  Score\n",
      "0   1  David     96\n",
      "1   2   Pury     89\n",
      "2   3   Jack     92\n",
      "3   4  Marry     95\n"
     ]
    }
   ],
   "source": [
    "import pandas as pd\n",
    "df = pd.DataFrame({\n",
    "    'ID':[1,2,3,4],\n",
    "    'Name':['David','Pury','Jack','Marry'],\n",
    "    'Score':[96,89,92,95]\n",
    "})\n",
    "print(df)"
   ]
  },
  {
   "cell_type": "code",
   "execution_count": null,
   "id": "7ba65197-6af7-4d95-b4c9-f717dc80dcc3",
   "metadata": {},
   "outputs": [],
   "source": []
  }
 ],
 "metadata": {
  "kernelspec": {
   "display_name": "Python 3 (ipykernel)",
   "language": "python",
   "name": "python3"
  },
  "language_info": {
   "codemirror_mode": {
    "name": "ipython",
    "version": 3
   },
   "file_extension": ".py",
   "mimetype": "text/x-python",
   "name": "python",
   "nbconvert_exporter": "python",
   "pygments_lexer": "ipython3",
   "version": "3.11.7"
  }
 },
 "nbformat": 4,
 "nbformat_minor": 5
}
